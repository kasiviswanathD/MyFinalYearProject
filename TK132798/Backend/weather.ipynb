{
 "cells": [
  {
   "cell_type": "code",
   "execution_count": 1,
   "metadata": {},
   "outputs": [],
   "source": [
    "### Importing All Importance Liabrarys\n",
    "import pandas as  pd\n",
    "import numpy as np\n",
    "import matplotlib.pyplot as plt\n",
    "import seaborn as sns\n",
    "\n",
    "from sklearn.preprocessing import LabelEncoder\n",
    "from sklearn.model_selection import train_test_split\n",
    "from sklearn.metrics import accuracy_score, classification_report,precision_score,recall_score,f1_score,confusion_matrix\n",
    "\n",
    "from sklearn.ensemble import RandomForestClassifier\n",
    "from sklearn.tree import DecisionTreeClassifier\n",
    "from sklearn.naive_bayes import GaussianNB\n",
    "from sklearn.neighbors import KNeighborsClassifier\n",
    "\n",
    "from tensorflow.keras import layers, models\n",
    "import pickle\n"
   ]
  },
  {
   "cell_type": "code",
   "execution_count": 2,
   "metadata": {},
   "outputs": [],
   "source": [
    "### Read the CSV file \n",
    "df=pd.read_csv(r'seattle-weather.csv')"
   ]
  },
  {
   "cell_type": "code",
   "execution_count": 3,
   "metadata": {},
   "outputs": [
    {
     "data": {
      "text/html": [
       "<div>\n",
       "<style scoped>\n",
       "    .dataframe tbody tr th:only-of-type {\n",
       "        vertical-align: middle;\n",
       "    }\n",
       "\n",
       "    .dataframe tbody tr th {\n",
       "        vertical-align: top;\n",
       "    }\n",
       "\n",
       "    .dataframe thead th {\n",
       "        text-align: right;\n",
       "    }\n",
       "</style>\n",
       "<table border=\"1\" class=\"dataframe\">\n",
       "  <thead>\n",
       "    <tr style=\"text-align: right;\">\n",
       "      <th></th>\n",
       "      <th>date</th>\n",
       "      <th>precipitation</th>\n",
       "      <th>temp_max</th>\n",
       "      <th>temp_min</th>\n",
       "      <th>wind</th>\n",
       "      <th>weather</th>\n",
       "    </tr>\n",
       "  </thead>\n",
       "  <tbody>\n",
       "    <tr>\n",
       "      <th>0</th>\n",
       "      <td>2012-01-01</td>\n",
       "      <td>0.0</td>\n",
       "      <td>12.8</td>\n",
       "      <td>5.0</td>\n",
       "      <td>4.7</td>\n",
       "      <td>drizzle</td>\n",
       "    </tr>\n",
       "    <tr>\n",
       "      <th>1</th>\n",
       "      <td>2012-01-02</td>\n",
       "      <td>10.9</td>\n",
       "      <td>10.6</td>\n",
       "      <td>2.8</td>\n",
       "      <td>4.5</td>\n",
       "      <td>rain</td>\n",
       "    </tr>\n",
       "    <tr>\n",
       "      <th>2</th>\n",
       "      <td>2012-01-03</td>\n",
       "      <td>0.8</td>\n",
       "      <td>11.7</td>\n",
       "      <td>7.2</td>\n",
       "      <td>2.3</td>\n",
       "      <td>rain</td>\n",
       "    </tr>\n",
       "    <tr>\n",
       "      <th>3</th>\n",
       "      <td>2012-01-04</td>\n",
       "      <td>20.3</td>\n",
       "      <td>12.2</td>\n",
       "      <td>5.6</td>\n",
       "      <td>4.7</td>\n",
       "      <td>rain</td>\n",
       "    </tr>\n",
       "    <tr>\n",
       "      <th>4</th>\n",
       "      <td>2012-01-05</td>\n",
       "      <td>1.3</td>\n",
       "      <td>8.9</td>\n",
       "      <td>2.8</td>\n",
       "      <td>6.1</td>\n",
       "      <td>rain</td>\n",
       "    </tr>\n",
       "  </tbody>\n",
       "</table>\n",
       "</div>"
      ],
      "text/plain": [
       "         date  precipitation  temp_max  temp_min  wind  weather\n",
       "0  2012-01-01            0.0      12.8       5.0   4.7  drizzle\n",
       "1  2012-01-02           10.9      10.6       2.8   4.5     rain\n",
       "2  2012-01-03            0.8      11.7       7.2   2.3     rain\n",
       "3  2012-01-04           20.3      12.2       5.6   4.7     rain\n",
       "4  2012-01-05            1.3       8.9       2.8   6.1     rain"
      ]
     },
     "execution_count": 3,
     "metadata": {},
     "output_type": "execute_result"
    }
   ],
   "source": [
    "# to view the top 5 rows\n",
    "df.head()"
   ]
  },
  {
   "cell_type": "code",
   "execution_count": 4,
   "metadata": {},
   "outputs": [
    {
     "data": {
      "text/html": [
       "<div>\n",
       "<style scoped>\n",
       "    .dataframe tbody tr th:only-of-type {\n",
       "        vertical-align: middle;\n",
       "    }\n",
       "\n",
       "    .dataframe tbody tr th {\n",
       "        vertical-align: top;\n",
       "    }\n",
       "\n",
       "    .dataframe thead th {\n",
       "        text-align: right;\n",
       "    }\n",
       "</style>\n",
       "<table border=\"1\" class=\"dataframe\">\n",
       "  <thead>\n",
       "    <tr style=\"text-align: right;\">\n",
       "      <th></th>\n",
       "      <th>date</th>\n",
       "      <th>precipitation</th>\n",
       "      <th>temp_max</th>\n",
       "      <th>temp_min</th>\n",
       "      <th>wind</th>\n",
       "      <th>weather</th>\n",
       "    </tr>\n",
       "  </thead>\n",
       "  <tbody>\n",
       "    <tr>\n",
       "      <th>1456</th>\n",
       "      <td>2015-12-27</td>\n",
       "      <td>8.6</td>\n",
       "      <td>4.4</td>\n",
       "      <td>1.7</td>\n",
       "      <td>2.9</td>\n",
       "      <td>rain</td>\n",
       "    </tr>\n",
       "    <tr>\n",
       "      <th>1457</th>\n",
       "      <td>2015-12-28</td>\n",
       "      <td>1.5</td>\n",
       "      <td>5.0</td>\n",
       "      <td>1.7</td>\n",
       "      <td>1.3</td>\n",
       "      <td>rain</td>\n",
       "    </tr>\n",
       "    <tr>\n",
       "      <th>1458</th>\n",
       "      <td>2015-12-29</td>\n",
       "      <td>0.0</td>\n",
       "      <td>7.2</td>\n",
       "      <td>0.6</td>\n",
       "      <td>2.6</td>\n",
       "      <td>fog</td>\n",
       "    </tr>\n",
       "    <tr>\n",
       "      <th>1459</th>\n",
       "      <td>2015-12-30</td>\n",
       "      <td>0.0</td>\n",
       "      <td>5.6</td>\n",
       "      <td>-1.0</td>\n",
       "      <td>3.4</td>\n",
       "      <td>sun</td>\n",
       "    </tr>\n",
       "    <tr>\n",
       "      <th>1460</th>\n",
       "      <td>2015-12-31</td>\n",
       "      <td>0.0</td>\n",
       "      <td>5.6</td>\n",
       "      <td>-2.1</td>\n",
       "      <td>3.5</td>\n",
       "      <td>sun</td>\n",
       "    </tr>\n",
       "  </tbody>\n",
       "</table>\n",
       "</div>"
      ],
      "text/plain": [
       "            date  precipitation  temp_max  temp_min  wind weather\n",
       "1456  2015-12-27            8.6       4.4       1.7   2.9    rain\n",
       "1457  2015-12-28            1.5       5.0       1.7   1.3    rain\n",
       "1458  2015-12-29            0.0       7.2       0.6   2.6     fog\n",
       "1459  2015-12-30            0.0       5.6      -1.0   3.4     sun\n",
       "1460  2015-12-31            0.0       5.6      -2.1   3.5     sun"
      ]
     },
     "execution_count": 4,
     "metadata": {},
     "output_type": "execute_result"
    }
   ],
   "source": [
    "# to view the bottom 5 rows\n",
    "df.tail()"
   ]
  },
  {
   "cell_type": "code",
   "execution_count": 5,
   "metadata": {},
   "outputs": [
    {
     "data": {
      "text/plain": [
       "(1461, 6)"
      ]
     },
     "execution_count": 5,
     "metadata": {},
     "output_type": "execute_result"
    }
   ],
   "source": [
    "## check the shape of DataFrame\n",
    "df.shape"
   ]
  },
  {
   "cell_type": "code",
   "execution_count": 6,
   "metadata": {},
   "outputs": [
    {
     "data": {
      "text/plain": [
       "date             0\n",
       "precipitation    0\n",
       "temp_max         0\n",
       "temp_min         0\n",
       "wind             0\n",
       "weather          0\n",
       "dtype: int64"
      ]
     },
     "execution_count": 6,
     "metadata": {},
     "output_type": "execute_result"
    }
   ],
   "source": [
    "## Cheking the null value present or not in each columns\n",
    "df.isnull().sum()"
   ]
  },
  {
   "cell_type": "code",
   "execution_count": 7,
   "metadata": {},
   "outputs": [
    {
     "data": {
      "text/plain": [
       "0"
      ]
     },
     "execution_count": 7,
     "metadata": {},
     "output_type": "execute_result"
    }
   ],
   "source": [
    "## Cheking the null value present or not in DataFrame\n",
    "df.isnull().sum().sum()"
   ]
  },
  {
   "cell_type": "code",
   "execution_count": 8,
   "metadata": {},
   "outputs": [],
   "source": [
    "## Drop is used for removing the specific column in the DataFrame\n",
    "df.drop('date',axis=1,inplace=True)"
   ]
  },
  {
   "cell_type": "code",
   "execution_count": 9,
   "metadata": {},
   "outputs": [
    {
     "data": {
      "text/html": [
       "<div>\n",
       "<style scoped>\n",
       "    .dataframe tbody tr th:only-of-type {\n",
       "        vertical-align: middle;\n",
       "    }\n",
       "\n",
       "    .dataframe tbody tr th {\n",
       "        vertical-align: top;\n",
       "    }\n",
       "\n",
       "    .dataframe thead th {\n",
       "        text-align: right;\n",
       "    }\n",
       "</style>\n",
       "<table border=\"1\" class=\"dataframe\">\n",
       "  <thead>\n",
       "    <tr style=\"text-align: right;\">\n",
       "      <th></th>\n",
       "      <th>precipitation</th>\n",
       "      <th>temp_max</th>\n",
       "      <th>temp_min</th>\n",
       "      <th>wind</th>\n",
       "      <th>weather</th>\n",
       "    </tr>\n",
       "  </thead>\n",
       "  <tbody>\n",
       "    <tr>\n",
       "      <th>0</th>\n",
       "      <td>0.0</td>\n",
       "      <td>12.8</td>\n",
       "      <td>5.0</td>\n",
       "      <td>4.7</td>\n",
       "      <td>drizzle</td>\n",
       "    </tr>\n",
       "    <tr>\n",
       "      <th>1</th>\n",
       "      <td>10.9</td>\n",
       "      <td>10.6</td>\n",
       "      <td>2.8</td>\n",
       "      <td>4.5</td>\n",
       "      <td>rain</td>\n",
       "    </tr>\n",
       "    <tr>\n",
       "      <th>2</th>\n",
       "      <td>0.8</td>\n",
       "      <td>11.7</td>\n",
       "      <td>7.2</td>\n",
       "      <td>2.3</td>\n",
       "      <td>rain</td>\n",
       "    </tr>\n",
       "    <tr>\n",
       "      <th>3</th>\n",
       "      <td>20.3</td>\n",
       "      <td>12.2</td>\n",
       "      <td>5.6</td>\n",
       "      <td>4.7</td>\n",
       "      <td>rain</td>\n",
       "    </tr>\n",
       "    <tr>\n",
       "      <th>4</th>\n",
       "      <td>1.3</td>\n",
       "      <td>8.9</td>\n",
       "      <td>2.8</td>\n",
       "      <td>6.1</td>\n",
       "      <td>rain</td>\n",
       "    </tr>\n",
       "  </tbody>\n",
       "</table>\n",
       "</div>"
      ],
      "text/plain": [
       "   precipitation  temp_max  temp_min  wind  weather\n",
       "0            0.0      12.8       5.0   4.7  drizzle\n",
       "1           10.9      10.6       2.8   4.5     rain\n",
       "2            0.8      11.7       7.2   2.3     rain\n",
       "3           20.3      12.2       5.6   4.7     rain\n",
       "4            1.3       8.9       2.8   6.1     rain"
      ]
     },
     "execution_count": 9,
     "metadata": {},
     "output_type": "execute_result"
    }
   ],
   "source": [
    "df.head()"
   ]
  },
  {
   "cell_type": "code",
   "execution_count": 10,
   "metadata": {},
   "outputs": [
    {
     "data": {
      "text/html": [
       "<div>\n",
       "<style scoped>\n",
       "    .dataframe tbody tr th:only-of-type {\n",
       "        vertical-align: middle;\n",
       "    }\n",
       "\n",
       "    .dataframe tbody tr th {\n",
       "        vertical-align: top;\n",
       "    }\n",
       "\n",
       "    .dataframe thead th {\n",
       "        text-align: right;\n",
       "    }\n",
       "</style>\n",
       "<table border=\"1\" class=\"dataframe\">\n",
       "  <thead>\n",
       "    <tr style=\"text-align: right;\">\n",
       "      <th></th>\n",
       "      <th>precipitation</th>\n",
       "      <th>temp_max</th>\n",
       "      <th>temp_min</th>\n",
       "      <th>wind</th>\n",
       "      <th>weather</th>\n",
       "    </tr>\n",
       "  </thead>\n",
       "  <tbody>\n",
       "    <tr>\n",
       "      <th>1456</th>\n",
       "      <td>8.6</td>\n",
       "      <td>4.4</td>\n",
       "      <td>1.7</td>\n",
       "      <td>2.9</td>\n",
       "      <td>rain</td>\n",
       "    </tr>\n",
       "    <tr>\n",
       "      <th>1457</th>\n",
       "      <td>1.5</td>\n",
       "      <td>5.0</td>\n",
       "      <td>1.7</td>\n",
       "      <td>1.3</td>\n",
       "      <td>rain</td>\n",
       "    </tr>\n",
       "    <tr>\n",
       "      <th>1458</th>\n",
       "      <td>0.0</td>\n",
       "      <td>7.2</td>\n",
       "      <td>0.6</td>\n",
       "      <td>2.6</td>\n",
       "      <td>fog</td>\n",
       "    </tr>\n",
       "    <tr>\n",
       "      <th>1459</th>\n",
       "      <td>0.0</td>\n",
       "      <td>5.6</td>\n",
       "      <td>-1.0</td>\n",
       "      <td>3.4</td>\n",
       "      <td>sun</td>\n",
       "    </tr>\n",
       "    <tr>\n",
       "      <th>1460</th>\n",
       "      <td>0.0</td>\n",
       "      <td>5.6</td>\n",
       "      <td>-2.1</td>\n",
       "      <td>3.5</td>\n",
       "      <td>sun</td>\n",
       "    </tr>\n",
       "  </tbody>\n",
       "</table>\n",
       "</div>"
      ],
      "text/plain": [
       "      precipitation  temp_max  temp_min  wind weather\n",
       "1456            8.6       4.4       1.7   2.9    rain\n",
       "1457            1.5       5.0       1.7   1.3    rain\n",
       "1458            0.0       7.2       0.6   2.6     fog\n",
       "1459            0.0       5.6      -1.0   3.4     sun\n",
       "1460            0.0       5.6      -2.1   3.5     sun"
      ]
     },
     "execution_count": 10,
     "metadata": {},
     "output_type": "execute_result"
    }
   ],
   "source": [
    "df.tail()"
   ]
  },
  {
   "cell_type": "code",
   "execution_count": 11,
   "metadata": {},
   "outputs": [
    {
     "data": {
      "text/plain": [
       "weather\n",
       "rain       641\n",
       "sun        640\n",
       "fog        101\n",
       "drizzle     53\n",
       "snow        26\n",
       "Name: count, dtype: int64"
      ]
     },
     "execution_count": 11,
     "metadata": {},
     "output_type": "execute_result"
    }
   ],
   "source": [
    "## Vslues count show how many number of time specific feature is repeted in DataFrame\n",
    "df.weather.value_counts()"
   ]
  },
  {
   "cell_type": "code",
   "execution_count": 12,
   "metadata": {},
   "outputs": [],
   "source": [
    "## Label encoding is used for to convert categorical Data into Numerical Data.\n",
    "from sklearn.preprocessing import LabelEncoder\n",
    "le = LabelEncoder()\n",
    "df['weather'] = le.fit_transform(df['weather'])"
   ]
  },
  {
   "cell_type": "code",
   "execution_count": 13,
   "metadata": {},
   "outputs": [
    {
     "data": {
      "text/plain": [
       "weather\n",
       "2    641\n",
       "4    640\n",
       "1    101\n",
       "0     53\n",
       "3     26\n",
       "Name: count, dtype: int64"
      ]
     },
     "execution_count": 13,
     "metadata": {},
     "output_type": "execute_result"
    }
   ],
   "source": [
    "df.weather.value_counts()"
   ]
  },
  {
   "cell_type": "code",
   "execution_count": 14,
   "metadata": {},
   "outputs": [],
   "source": [
    "## SMOTE is used for Balance the Unbalance Data \n",
    "from imblearn.over_sampling import SMOTE\n",
    "from imblearn.under_sampling import RandomUnderSampler\n",
    "from sklearn.pipeline import Pipeline\n",
    "\n",
    "#Preprocess Data for Machine Learning Development\n",
    "X = df.drop(['weather'], axis = 1)\n",
    "y = df['weather']\n",
    "\n",
    "\n",
    "over_strategy = {0 : 1000, 1 : 1000, 2 : 1000, 3 : 1000, 4 : 2000}\n",
    "under_strategy = {0 : 1000, 1 : 1000, 2 : 1000, 3 : 1000, 4 : 2000}\n",
    "\n",
    "oversample = SMOTE(sampling_strategy = over_strategy)\n",
    "undersample = RandomUnderSampler(sampling_strategy = under_strategy)\n",
    "\n",
    "X_final,y = oversample.fit_resample(X,y)\n",
    "X_final,y = undersample.fit_resample(X_final, y)\n",
    "\n",
    "## Splitting the Data Into Training And Testing\n",
    "X_train,X_test,y_train,y_test = train_test_split(X_final,y,random_state = 10, test_size = 0.2)"
   ]
  },
  {
   "cell_type": "code",
   "execution_count": 15,
   "metadata": {},
   "outputs": [
    {
     "data": {
      "text/html": [
       "<div>\n",
       "<style scoped>\n",
       "    .dataframe tbody tr th:only-of-type {\n",
       "        vertical-align: middle;\n",
       "    }\n",
       "\n",
       "    .dataframe tbody tr th {\n",
       "        vertical-align: top;\n",
       "    }\n",
       "\n",
       "    .dataframe thead th {\n",
       "        text-align: right;\n",
       "    }\n",
       "</style>\n",
       "<table border=\"1\" class=\"dataframe\">\n",
       "  <thead>\n",
       "    <tr style=\"text-align: right;\">\n",
       "      <th></th>\n",
       "      <th>precipitation</th>\n",
       "      <th>temp_max</th>\n",
       "      <th>temp_min</th>\n",
       "      <th>wind</th>\n",
       "    </tr>\n",
       "  </thead>\n",
       "  <tbody>\n",
       "    <tr>\n",
       "      <th>0</th>\n",
       "      <td>0.0</td>\n",
       "      <td>12.8</td>\n",
       "      <td>5.0</td>\n",
       "      <td>4.7</td>\n",
       "    </tr>\n",
       "    <tr>\n",
       "      <th>1</th>\n",
       "      <td>10.9</td>\n",
       "      <td>10.6</td>\n",
       "      <td>2.8</td>\n",
       "      <td>4.5</td>\n",
       "    </tr>\n",
       "    <tr>\n",
       "      <th>2</th>\n",
       "      <td>0.8</td>\n",
       "      <td>11.7</td>\n",
       "      <td>7.2</td>\n",
       "      <td>2.3</td>\n",
       "    </tr>\n",
       "    <tr>\n",
       "      <th>3</th>\n",
       "      <td>20.3</td>\n",
       "      <td>12.2</td>\n",
       "      <td>5.6</td>\n",
       "      <td>4.7</td>\n",
       "    </tr>\n",
       "    <tr>\n",
       "      <th>4</th>\n",
       "      <td>1.3</td>\n",
       "      <td>8.9</td>\n",
       "      <td>2.8</td>\n",
       "      <td>6.1</td>\n",
       "    </tr>\n",
       "    <tr>\n",
       "      <th>...</th>\n",
       "      <td>...</td>\n",
       "      <td>...</td>\n",
       "      <td>...</td>\n",
       "      <td>...</td>\n",
       "    </tr>\n",
       "    <tr>\n",
       "      <th>1456</th>\n",
       "      <td>8.6</td>\n",
       "      <td>4.4</td>\n",
       "      <td>1.7</td>\n",
       "      <td>2.9</td>\n",
       "    </tr>\n",
       "    <tr>\n",
       "      <th>1457</th>\n",
       "      <td>1.5</td>\n",
       "      <td>5.0</td>\n",
       "      <td>1.7</td>\n",
       "      <td>1.3</td>\n",
       "    </tr>\n",
       "    <tr>\n",
       "      <th>1458</th>\n",
       "      <td>0.0</td>\n",
       "      <td>7.2</td>\n",
       "      <td>0.6</td>\n",
       "      <td>2.6</td>\n",
       "    </tr>\n",
       "    <tr>\n",
       "      <th>1459</th>\n",
       "      <td>0.0</td>\n",
       "      <td>5.6</td>\n",
       "      <td>-1.0</td>\n",
       "      <td>3.4</td>\n",
       "    </tr>\n",
       "    <tr>\n",
       "      <th>1460</th>\n",
       "      <td>0.0</td>\n",
       "      <td>5.6</td>\n",
       "      <td>-2.1</td>\n",
       "      <td>3.5</td>\n",
       "    </tr>\n",
       "  </tbody>\n",
       "</table>\n",
       "<p>1461 rows × 4 columns</p>\n",
       "</div>"
      ],
      "text/plain": [
       "      precipitation  temp_max  temp_min  wind\n",
       "0               0.0      12.8       5.0   4.7\n",
       "1              10.9      10.6       2.8   4.5\n",
       "2               0.8      11.7       7.2   2.3\n",
       "3              20.3      12.2       5.6   4.7\n",
       "4               1.3       8.9       2.8   6.1\n",
       "...             ...       ...       ...   ...\n",
       "1456            8.6       4.4       1.7   2.9\n",
       "1457            1.5       5.0       1.7   1.3\n",
       "1458            0.0       7.2       0.6   2.6\n",
       "1459            0.0       5.6      -1.0   3.4\n",
       "1460            0.0       5.6      -2.1   3.5\n",
       "\n",
       "[1461 rows x 4 columns]"
      ]
     },
     "execution_count": 15,
     "metadata": {},
     "output_type": "execute_result"
    }
   ],
   "source": [
    "X=df.drop('weather',axis=1)\n",
    "X"
   ]
  },
  {
   "cell_type": "code",
   "execution_count": 16,
   "metadata": {},
   "outputs": [
    {
     "data": {
      "text/plain": [
       "0       0\n",
       "1       2\n",
       "2       2\n",
       "3       2\n",
       "4       2\n",
       "       ..\n",
       "1456    2\n",
       "1457    2\n",
       "1458    1\n",
       "1459    4\n",
       "1460    4\n",
       "Name: weather, Length: 1461, dtype: int32"
      ]
     },
     "execution_count": 16,
     "metadata": {},
     "output_type": "execute_result"
    }
   ],
   "source": [
    "y=df['weather']\n",
    "y"
   ]
  },
  {
   "cell_type": "code",
   "execution_count": 17,
   "metadata": {},
   "outputs": [
    {
     "data": {
      "text/html": [
       "<div>\n",
       "<style scoped>\n",
       "    .dataframe tbody tr th:only-of-type {\n",
       "        vertical-align: middle;\n",
       "    }\n",
       "\n",
       "    .dataframe tbody tr th {\n",
       "        vertical-align: top;\n",
       "    }\n",
       "\n",
       "    .dataframe thead th {\n",
       "        text-align: right;\n",
       "    }\n",
       "</style>\n",
       "<table border=\"1\" class=\"dataframe\">\n",
       "  <thead>\n",
       "    <tr style=\"text-align: right;\">\n",
       "      <th></th>\n",
       "      <th>precipitation</th>\n",
       "      <th>temp_max</th>\n",
       "      <th>temp_min</th>\n",
       "      <th>wind</th>\n",
       "    </tr>\n",
       "  </thead>\n",
       "  <tbody>\n",
       "    <tr>\n",
       "      <th>650</th>\n",
       "      <td>1.000000</td>\n",
       "      <td>14.400000</td>\n",
       "      <td>8.900000</td>\n",
       "      <td>2.200000</td>\n",
       "    </tr>\n",
       "    <tr>\n",
       "      <th>779</th>\n",
       "      <td>15.200000</td>\n",
       "      <td>8.900000</td>\n",
       "      <td>5.000000</td>\n",
       "      <td>6.200000</td>\n",
       "    </tr>\n",
       "    <tr>\n",
       "      <th>3684</th>\n",
       "      <td>22.499427</td>\n",
       "      <td>6.748763</td>\n",
       "      <td>3.217713</td>\n",
       "      <td>5.521334</td>\n",
       "    </tr>\n",
       "    <tr>\n",
       "      <th>433</th>\n",
       "      <td>0.000000</td>\n",
       "      <td>12.800000</td>\n",
       "      <td>1.100000</td>\n",
       "      <td>1.300000</td>\n",
       "    </tr>\n",
       "    <tr>\n",
       "      <th>3767</th>\n",
       "      <td>17.713946</td>\n",
       "      <td>8.300000</td>\n",
       "      <td>0.911546</td>\n",
       "      <td>6.086710</td>\n",
       "    </tr>\n",
       "    <tr>\n",
       "      <th>...</th>\n",
       "      <td>...</td>\n",
       "      <td>...</td>\n",
       "      <td>...</td>\n",
       "      <td>...</td>\n",
       "    </tr>\n",
       "    <tr>\n",
       "      <th>3126</th>\n",
       "      <td>0.000000</td>\n",
       "      <td>14.006399</td>\n",
       "      <td>8.900000</td>\n",
       "      <td>1.946001</td>\n",
       "    </tr>\n",
       "    <tr>\n",
       "      <th>4504</th>\n",
       "      <td>23.209196</td>\n",
       "      <td>8.761894</td>\n",
       "      <td>4.377808</td>\n",
       "      <td>5.640584</td>\n",
       "    </tr>\n",
       "    <tr>\n",
       "      <th>2748</th>\n",
       "      <td>0.000000</td>\n",
       "      <td>15.742800</td>\n",
       "      <td>8.157200</td>\n",
       "      <td>2.414399</td>\n",
       "    </tr>\n",
       "    <tr>\n",
       "      <th>5449</th>\n",
       "      <td>0.000000</td>\n",
       "      <td>21.100000</td>\n",
       "      <td>14.282438</td>\n",
       "      <td>3.111611</td>\n",
       "    </tr>\n",
       "    <tr>\n",
       "      <th>2429</th>\n",
       "      <td>0.000000</td>\n",
       "      <td>8.212110</td>\n",
       "      <td>1.012110</td>\n",
       "      <td>1.133983</td>\n",
       "    </tr>\n",
       "  </tbody>\n",
       "</table>\n",
       "<p>4800 rows × 4 columns</p>\n",
       "</div>"
      ],
      "text/plain": [
       "      precipitation   temp_max   temp_min      wind\n",
       "650        1.000000  14.400000   8.900000  2.200000\n",
       "779       15.200000   8.900000   5.000000  6.200000\n",
       "3684      22.499427   6.748763   3.217713  5.521334\n",
       "433        0.000000  12.800000   1.100000  1.300000\n",
       "3767      17.713946   8.300000   0.911546  6.086710\n",
       "...             ...        ...        ...       ...\n",
       "3126       0.000000  14.006399   8.900000  1.946001\n",
       "4504      23.209196   8.761894   4.377808  5.640584\n",
       "2748       0.000000  15.742800   8.157200  2.414399\n",
       "5449       0.000000  21.100000  14.282438  3.111611\n",
       "2429       0.000000   8.212110   1.012110  1.133983\n",
       "\n",
       "[4800 rows x 4 columns]"
      ]
     },
     "execution_count": 17,
     "metadata": {},
     "output_type": "execute_result"
    }
   ],
   "source": [
    "X_train"
   ]
  },
  {
   "cell_type": "code",
   "execution_count": 18,
   "metadata": {},
   "outputs": [
    {
     "data": {
      "text/plain": [
       "650     2\n",
       "779     2\n",
       "3684    3\n",
       "433     1\n",
       "3767    3\n",
       "       ..\n",
       "3126    1\n",
       "4504    3\n",
       "2748    1\n",
       "5449    4\n",
       "2429    1\n",
       "Name: weather, Length: 4800, dtype: int32"
      ]
     },
     "execution_count": 18,
     "metadata": {},
     "output_type": "execute_result"
    }
   ],
   "source": [
    "y_train"
   ]
  },
  {
   "cell_type": "code",
   "execution_count": 19,
   "metadata": {},
   "outputs": [
    {
     "data": {
      "text/html": [
       "<div>\n",
       "<style scoped>\n",
       "    .dataframe tbody tr th:only-of-type {\n",
       "        vertical-align: middle;\n",
       "    }\n",
       "\n",
       "    .dataframe tbody tr th {\n",
       "        vertical-align: top;\n",
       "    }\n",
       "\n",
       "    .dataframe thead th {\n",
       "        text-align: right;\n",
       "    }\n",
       "</style>\n",
       "<table border=\"1\" class=\"dataframe\">\n",
       "  <thead>\n",
       "    <tr style=\"text-align: right;\">\n",
       "      <th></th>\n",
       "      <th>precipitation</th>\n",
       "      <th>temp_max</th>\n",
       "      <th>temp_min</th>\n",
       "      <th>wind</th>\n",
       "    </tr>\n",
       "  </thead>\n",
       "  <tbody>\n",
       "    <tr>\n",
       "      <th>2682</th>\n",
       "      <td>0.000000</td>\n",
       "      <td>15.247450</td>\n",
       "      <td>3.851650</td>\n",
       "      <td>1.849850</td>\n",
       "    </tr>\n",
       "    <tr>\n",
       "      <th>234</th>\n",
       "      <td>0.000000</td>\n",
       "      <td>22.200000</td>\n",
       "      <td>13.300000</td>\n",
       "      <td>2.300000</td>\n",
       "    </tr>\n",
       "    <tr>\n",
       "      <th>2845</th>\n",
       "      <td>0.000000</td>\n",
       "      <td>19.991944</td>\n",
       "      <td>9.408056</td>\n",
       "      <td>2.781203</td>\n",
       "    </tr>\n",
       "    <tr>\n",
       "      <th>17</th>\n",
       "      <td>19.800000</td>\n",
       "      <td>0.000000</td>\n",
       "      <td>-2.800000</td>\n",
       "      <td>5.000000</td>\n",
       "    </tr>\n",
       "    <tr>\n",
       "      <th>5641</th>\n",
       "      <td>0.000000</td>\n",
       "      <td>24.125890</td>\n",
       "      <td>9.549515</td>\n",
       "      <td>2.275081</td>\n",
       "    </tr>\n",
       "    <tr>\n",
       "      <th>...</th>\n",
       "      <td>...</td>\n",
       "      <td>...</td>\n",
       "      <td>...</td>\n",
       "      <td>...</td>\n",
       "    </tr>\n",
       "    <tr>\n",
       "      <th>422</th>\n",
       "      <td>0.500000</td>\n",
       "      <td>8.900000</td>\n",
       "      <td>3.900000</td>\n",
       "      <td>3.800000</td>\n",
       "    </tr>\n",
       "    <tr>\n",
       "      <th>4766</th>\n",
       "      <td>0.000000</td>\n",
       "      <td>21.048700</td>\n",
       "      <td>13.300000</td>\n",
       "      <td>3.630780</td>\n",
       "    </tr>\n",
       "    <tr>\n",
       "      <th>3954</th>\n",
       "      <td>20.553568</td>\n",
       "      <td>1.803181</td>\n",
       "      <td>-1.158298</td>\n",
       "      <td>5.134566</td>\n",
       "    </tr>\n",
       "    <tr>\n",
       "      <th>2612</th>\n",
       "      <td>0.000000</td>\n",
       "      <td>14.400000</td>\n",
       "      <td>4.400000</td>\n",
       "      <td>2.295010</td>\n",
       "    </tr>\n",
       "    <tr>\n",
       "      <th>4144</th>\n",
       "      <td>19.880247</td>\n",
       "      <td>0.192019</td>\n",
       "      <td>-2.625177</td>\n",
       "      <td>5.014330</td>\n",
       "    </tr>\n",
       "  </tbody>\n",
       "</table>\n",
       "<p>1200 rows × 4 columns</p>\n",
       "</div>"
      ],
      "text/plain": [
       "      precipitation   temp_max   temp_min      wind\n",
       "2682       0.000000  15.247450   3.851650  1.849850\n",
       "234        0.000000  22.200000  13.300000  2.300000\n",
       "2845       0.000000  19.991944   9.408056  2.781203\n",
       "17        19.800000   0.000000  -2.800000  5.000000\n",
       "5641       0.000000  24.125890   9.549515  2.275081\n",
       "...             ...        ...        ...       ...\n",
       "422        0.500000   8.900000   3.900000  3.800000\n",
       "4766       0.000000  21.048700  13.300000  3.630780\n",
       "3954      20.553568   1.803181  -1.158298  5.134566\n",
       "2612       0.000000  14.400000   4.400000  2.295010\n",
       "4144      19.880247   0.192019  -2.625177  5.014330\n",
       "\n",
       "[1200 rows x 4 columns]"
      ]
     },
     "execution_count": 19,
     "metadata": {},
     "output_type": "execute_result"
    }
   ],
   "source": [
    "X_test"
   ]
  },
  {
   "cell_type": "code",
   "execution_count": 20,
   "metadata": {},
   "outputs": [
    {
     "data": {
      "text/plain": [
       "2682    1\n",
       "234     4\n",
       "2845    1\n",
       "17      3\n",
       "5641    4\n",
       "       ..\n",
       "422     2\n",
       "4766    4\n",
       "3954    3\n",
       "2612    1\n",
       "4144    3\n",
       "Name: weather, Length: 1200, dtype: int32"
      ]
     },
     "execution_count": 20,
     "metadata": {},
     "output_type": "execute_result"
    }
   ],
   "source": [
    "y_test"
   ]
  },
  {
   "cell_type": "markdown",
   "metadata": {},
   "source": [
    "### Decision Tree"
   ]
  },
  {
   "cell_type": "code",
   "execution_count": 21,
   "metadata": {},
   "outputs": [
    {
     "name": "stdout",
     "output_type": "stream",
     "text": [
      "acurracy = 0.8566666666666667\n",
      "classification_report =\n",
      "               precision    recall  f1-score   support\n",
      "\n",
      "           0       0.82      0.78      0.80       213\n",
      "           1       0.79      0.73      0.76       215\n",
      "           2       0.96      0.90      0.93       197\n",
      "           3       0.96      0.99      0.98       198\n",
      "           4       0.81      0.88      0.84       377\n",
      "\n",
      "    accuracy                           0.86      1200\n",
      "   macro avg       0.87      0.86      0.86      1200\n",
      "weighted avg       0.86      0.86      0.86      1200\n",
      "\n",
      "confusion_matrix =\n",
      " [[167  16   1   0  29]\n",
      " [ 19 157   1   0  38]\n",
      " [  1   2 177   8   9]\n",
      " [  0   0   1 197   0]\n",
      " [ 17  25   5   0 330]]\n"
     ]
    }
   ],
   "source": [
    "## Decision Tree Model Building \n",
    "dt = DecisionTreeClassifier(random_state=12)\n",
    "dt = dt.fit(X_train,y_train)     # Fit Training Data\n",
    "y_pred = dt.predict(X_test)\n",
    "acc_dt = accuracy_score(y_test,y_pred)\n",
    "# PS_dt = precision_score(y_test,y_pred)\n",
    "# RS_dt = recall_score(y_test,y_pred)\n",
    "# F1S_dt = f1_score(y_test,y_pred)\n",
    "cls_dt = classification_report(y_test,y_pred)\n",
    "CM_dt = confusion_matrix(y_test,y_pred)\n",
    "\n",
    "print(f\"acurracy = {acc_dt}\")\n",
    "# print(f\"precision_score = {PS_dt}\")\n",
    "# print(f\"recall_score = {RS_dt}\")\n",
    "# print(f\"f1_score = {F1S_dt}\")\n",
    "print(f\"classification_report =\\n {cls_dt}\")\n",
    "print(f\"confusion_matrix =\\n {CM_dt}\")"
   ]
  },
  {
   "cell_type": "code",
   "execution_count": 22,
   "metadata": {},
   "outputs": [
    {
     "data": {
      "image/png": "[encoded data removed]",
      "text/plain": [
       "<Figure size 800x600 with 2 Axes>"
      ]
     },
     "metadata": {},
     "output_type": "display_data"
    }
   ],
   "source": [
    "# Plot confusion matrix using seaborn\n",
    "plt.figure(figsize=(8, 6))\n",
    "sns.heatmap(CM_dt, annot=True, fmt='d', cmap='Blues')  #, xticklabels=df.target_names, yticklabels=df.target_names)\n",
    "plt.title('Confusion Matrix')\n",
    "plt.xlabel('Predicted')\n",
    "plt.ylabel('Actual')\n",
    "plt.show()"
   ]
  },
  {
   "cell_type": "code",
   "execution_count": 23,
   "metadata": {},
   "outputs": [],
   "source": [
    "with open('DT_model.pkl','wb') as fp:\n",
    "    pickle.dump(dt,fp)"
   ]
  },
  {
   "cell_type": "markdown",
   "metadata": {},
   "source": [
    "### GaussianNB "
   ]
  },
  {
   "cell_type": "code",
   "execution_count": 24,
   "metadata": {},
   "outputs": [
    {
     "name": "stdout",
     "output_type": "stream",
     "text": [
      "acurracy = 0.6458333333333334\n",
      "classification_report =\n",
      "               precision    recall  f1-score   support\n",
      "\n",
      "           0       0.47      0.29      0.36       213\n",
      "           1       0.57      0.25      0.34       215\n",
      "           2       0.97      0.81      0.88       197\n",
      "           3       0.89      0.97      0.93       198\n",
      "           4       0.52      0.81      0.63       377\n",
      "\n",
      "    accuracy                           0.65      1200\n",
      "   macro avg       0.68      0.63      0.63      1200\n",
      "weighted avg       0.65      0.65      0.62      1200\n",
      "\n",
      "confusion_matrix =\n",
      " [[ 62  12   0   0 139]\n",
      " [ 24  53   0   0 138]\n",
      " [  3   1 160  24   9]\n",
      " [  0   0   5 193   0]\n",
      " [ 43  27   0   0 307]]\n"
     ]
    }
   ],
   "source": [
    "gnb = GaussianNB()\n",
    "# np.random.seed(10)\n",
    "gnb.fit(X_train,y_train)\n",
    "y_pred = gnb.predict(X_test)\n",
    "acc_gnb = accuracy_score(y_test,y_pred)\n",
    "cls_gnb = classification_report(y_test,y_pred)\n",
    "CM_gnb = confusion_matrix(y_test,y_pred)\n",
    "\n",
    "print(f\"acurracy = {acc_gnb}\")\n",
    "print(f\"classification_report =\\n {cls_gnb}\")\n",
    "print(f\"confusion_matrix =\\n {CM_gnb}\")"
   ]
  },
  {
   "cell_type": "code",
   "execution_count": 25,
   "metadata": {},
   "outputs": [
    {
     "data": {
      "image/png": "[encoded data removed]",
      "text/plain": [
       "<Figure size 800x600 with 2 Axes>"
      ]
     },
     "metadata": {},
     "output_type": "display_data"
    }
   ],
   "source": [
    "# Plot confusion matrix using seaborn\n",
    "plt.figure(figsize=(8, 6))\n",
    "sns.heatmap(CM_gnb, annot=True, fmt='d', cmap='Blues')  #, xticklabels=df.target_names, yticklabels=df.target_names)\n",
    "plt.title('Confusion Matrix')\n",
    "plt.xlabel('Predicted')\n",
    "plt.ylabel('Actual')\n",
    "plt.show()"
   ]
  },
  {
   "cell_type": "markdown",
   "metadata": {},
   "source": [
    "### KNN"
   ]
  },
  {
   "cell_type": "code",
   "execution_count": 26,
   "metadata": {},
   "outputs": [
    {
     "name": "stdout",
     "output_type": "stream",
     "text": [
      "acurracy = 0.8541666666666666\n",
      "classification_report =\n",
      "               precision    recall  f1-score   support\n",
      "\n",
      "           0       0.79      0.81      0.80       213\n",
      "           1       0.79      0.83      0.81       215\n",
      "           2       0.97      0.78      0.87       197\n",
      "           3       0.94      0.99      0.96       198\n",
      "           4       0.83      0.86      0.85       377\n",
      "\n",
      "    accuracy                           0.85      1200\n",
      "   macro avg       0.87      0.85      0.86      1200\n",
      "weighted avg       0.86      0.85      0.85      1200\n",
      "\n",
      "confusion_matrix =\n",
      " [[173  13   0   0  27]\n",
      " [ 11 178   0   0  26]\n",
      " [  7  11 154  13  12]\n",
      " [  0   2   0 196   0]\n",
      " [ 29  20   4   0 324]]\n"
     ]
    }
   ],
   "source": [
    "knn = KNeighborsClassifier()\n",
    "knn.fit(X_train,y_train)\n",
    "y_pred = knn.predict(X_test)\n",
    "acc_knn = accuracy_score(y_test,y_pred)\n",
    "cls_knn = classification_report(y_test,y_pred)\n",
    "CM_knn = confusion_matrix(y_test,y_pred)\n",
    "\n",
    "print(f\"acurracy = {acc_knn}\")\n",
    "print(f\"classification_report =\\n {cls_knn}\")\n",
    "print(f\"confusion_matrix =\\n {CM_knn}\")"
   ]
  },
  {
   "cell_type": "code",
   "execution_count": 27,
   "metadata": {},
   "outputs": [
    {
     "data": {
      "image/png": "[encoded data removed]",
      "text/plain": [
       "<Figure size 800x600 with 2 Axes>"
      ]
     },
     "metadata": {},
     "output_type": "display_data"
    }
   ],
   "source": [
    "# Plot confusion matrix using seaborn\n",
    "plt.figure(figsize=(8, 6))\n",
    "sns.heatmap(CM_knn, annot=True, fmt='d', cmap='Blues')  #, xticklabels=df.target_names, yticklabels=df.target_names)\n",
    "plt.title('Confusion Matrix')\n",
    "plt.xlabel('Predicted')\n",
    "plt.ylabel('Actual')\n",
    "plt.show()"
   ]
  },
  {
   "cell_type": "code",
   "execution_count": 28,
   "metadata": {},
   "outputs": [],
   "source": [
    "with open('KNN_model.pkl','wb') as fp:\n",
    "    pickle.dump(knn,fp)"
   ]
  },
  {
   "cell_type": "markdown",
   "metadata": {},
   "source": [
    "### Random Forest"
   ]
  },
  {
   "cell_type": "code",
   "execution_count": 29,
   "metadata": {},
   "outputs": [
    {
     "name": "stdout",
     "output_type": "stream",
     "text": [
      "acurracy = 0.8958333333333334\n",
      "classification_report =\n",
      "               precision    recall  f1-score   support\n",
      "\n",
      "           0       0.89      0.81      0.85       213\n",
      "           1       0.88      0.79      0.83       215\n",
      "           2       0.99      0.90      0.94       197\n",
      "           3       0.97      0.99      0.98       198\n",
      "           4       0.83      0.95      0.89       377\n",
      "\n",
      "    accuracy                           0.90      1200\n",
      "   macro avg       0.91      0.89      0.90      1200\n",
      "weighted avg       0.90      0.90      0.90      1200\n",
      "\n",
      "confusion_matrix =\n",
      " [[173  14   0   0  26]\n",
      " [  9 170   0   0  36]\n",
      " [  2   1 177   7  10]\n",
      " [  0   0   1 197   0]\n",
      " [ 10   9   0   0 358]]\n"
     ]
    }
   ],
   "source": [
    "rf = RandomForestClassifier(n_estimators=52)\n",
    "rf = rf.fit(X_train,y_train)\n",
    "y_pred = rf.predict(X_test)\n",
    "acc_rf = accuracy_score(y_test,y_pred)\n",
    "cls_rf = classification_report(y_test,y_pred)\n",
    "CM_rf = confusion_matrix(y_test,y_pred)\n",
    "\n",
    "print(f\"acurracy = {acc_rf}\")\n",
    "print(f\"classification_report =\\n {cls_rf}\")\n",
    "print(f\"confusion_matrix =\\n {CM_rf}\")"
   ]
  },
  {
   "cell_type": "code",
   "execution_count": 30,
   "metadata": {},
   "outputs": [
    {
     "data": {
      "image/png": "[encoded data removed]",
      "text/plain": [
       "<Figure size 800x600 with 2 Axes>"
      ]
     },
     "metadata": {},
     "output_type": "display_data"
    }
   ],
   "source": [
    "# Plot confusion matrix using seaborn\n",
    "plt.figure(figsize=(8, 6))\n",
    "sns.heatmap(CM_rf, annot=True, fmt='d', cmap='Blues')  #, xticklabels=df.target_names, yticklabels=df.target_names)\n",
    "plt.title('Confusion Matrix')\n",
    "plt.xlabel('Predicted')\n",
    "plt.ylabel('Actual')\n",
    "plt.show()"
   ]
  },
  {
   "cell_type": "code",
   "execution_count": 31,
   "metadata": {},
   "outputs": [],
   "source": [
    "with open('RF_model.pkl','wb') as fp:\n",
    "    pickle.dump(rf,fp)"
   ]
  },
  {
   "cell_type": "markdown",
   "metadata": {},
   "source": [
    "### LogisticRegression"
   ]
  },
  {
   "cell_type": "code",
   "execution_count": 32,
   "metadata": {},
   "outputs": [
    {
     "name": "stdout",
     "output_type": "stream",
     "text": [
      "acurracy = 0.6458333333333334\n",
      "classification_report =\n",
      "               precision    recall  f1-score   support\n",
      "\n",
      "           0       0.61      0.22      0.32       213\n",
      "           1       0.50      0.19      0.27       215\n",
      "           2       0.96      0.83      0.89       197\n",
      "           3       0.89      0.96      0.93       198\n",
      "           4       0.51      0.89      0.65       377\n",
      "\n",
      "    accuracy                           0.65      1200\n",
      "   macro avg       0.69      0.62      0.61      1200\n",
      "weighted avg       0.66      0.65      0.61      1200\n",
      "\n",
      "confusion_matrix =\n",
      " [[ 46  17   0   0 150]\n",
      " [ 12  40   0   0 163]\n",
      " [  2   2 163  17  13]\n",
      " [  0   0   7 191   0]\n",
      " [ 15  21   0   6 335]]\n"
     ]
    }
   ],
   "source": [
    "from sklearn.metrics import accuracy_score\n",
    "from sklearn.linear_model import LogisticRegression\n",
    "lr = LogisticRegression(max_iter=1000)\n",
    "lr = lr.fit(X_train,y_train)\n",
    "y_pred = lr.predict(X_test)\n",
    "acc_lr=accuracy_score(y_test,y_pred)\n",
    "cls_lr = classification_report(y_test,y_pred)\n",
    "CM_lr = confusion_matrix(y_test,y_pred)\n",
    "\n",
    "print(f\"acurracy = {acc_lr}\")\n",
    "print(f\"classification_report =\\n {cls_lr}\")\n",
    "print(f\"confusion_matrix =\\n {CM_lr}\")"
   ]
  },
  {
   "cell_type": "code",
   "execution_count": 33,
   "metadata": {},
   "outputs": [
    {
     "data": {
      "image/png": "[encoded data removed]",
      "text/plain": [
       "<Figure size 800x600 with 2 Axes>"
      ]
     },
     "metadata": {},
     "output_type": "display_data"
    }
   ],
   "source": [
    "# Plot confusion matrix using seaborn\n",
    "plt.figure(figsize=(8, 6))\n",
    "sns.heatmap(CM_lr, annot=True, fmt='d', cmap='Blues')  #, xticklabels=df.target_names, yticklabels=df.target_names)\n",
    "plt.title('Confusion Matrix')\n",
    "plt.xlabel('Predicted')\n",
    "plt.ylabel('Actual')\n",
    "plt.show()"
   ]
  },
  {
   "cell_type": "code",
   "execution_count": 34,
   "metadata": {},
   "outputs": [],
   "source": [
    "with open('LR_model.pkl','wb') as fp:\n",
    "    pickle.dump(lr,fp)"
   ]
  },
  {
   "cell_type": "markdown",
   "metadata": {},
   "source": [
    "### AdaBoost"
   ]
  },
  {
   "cell_type": "code",
   "execution_count": 35,
   "metadata": {},
   "outputs": [
    {
     "data": {
      "text/html": [
       "<style>#sk-container-id-1 {color: black;}#sk-container-id-1 pre{padding: 0;}#sk-container-id-1 div.sk-toggleable {background-color: white;}#sk-container-id-1 label.sk-toggleable__label {cursor: pointer;display: block;width: 100%;margin-bottom: 0;padding: 0.3em;box-sizing: border-box;text-align: center;}#sk-container-id-1 label.sk-toggleable__label-arrow:before {content: \"▸\";float: left;margin-right: 0.25em;color: #696969;}#sk-container-id-1 label.sk-toggleable__label-arrow:hover:before {color: black;}#sk-container-id-1 div.sk-estimator:hover label.sk-toggleable__label-arrow:before {color: black;}#sk-container-id-1 div.sk-toggleable__content {max-height: 0;max-width: 0;overflow: hidden;text-align: left;background-color: #f0f8ff;}#sk-container-id-1 div.sk-toggleable__content pre {margin: 0.2em;color: black;border-radius: 0.25em;background-color: #f0f8ff;}#sk-container-id-1 input.sk-toggleable__control:checked~div.sk-toggleable__content {max-height: 200px;max-width: 100%;overflow: auto;}#sk-container-id-1 input.sk-toggleable__control:checked~label.sk-toggleable__label-arrow:before {content: \"▾\";}#sk-container-id-1 div.sk-estimator input.sk-toggleable__control:checked~label.sk-toggleable__label {background-color: #d4ebff;}#sk-container-id-1 div.sk-label input.sk-toggleable__control:checked~label.sk-toggleable__label {background-color: #d4ebff;}#sk-container-id-1 input.sk-hidden--visually {border: 0;clip: rect(1px 1px 1px 1px);clip: rect(1px, 1px, 1px, 1px);height: 1px;margin: -1px;overflow: hidden;padding: 0;position: absolute;width: 1px;}#sk-container-id-1 div.sk-estimator {font-family: monospace;background-color: #f0f8ff;border: 1px dotted black;border-radius: 0.25em;box-sizing: border-box;margin-bottom: 0.5em;}#sk-container-id-1 div.sk-estimator:hover {background-color: #d4ebff;}#sk-container-id-1 div.sk-parallel-item::after {content: \"\";width: 100%;border-bottom: 1px solid gray;flex-grow: 1;}#sk-container-id-1 div.sk-label:hover label.sk-toggleable__label {background-color: #d4ebff;}#sk-container-id-1 div.sk-serial::before {content: \"\";position: absolute;border-left: 1px solid gray;box-sizing: border-box;top: 0;bottom: 0;left: 50%;z-index: 0;}#sk-container-id-1 div.sk-serial {display: flex;flex-direction: column;align-items: center;background-color: white;padding-right: 0.2em;padding-left: 0.2em;position: relative;}#sk-container-id-1 div.sk-item {position: relative;z-index: 1;}#sk-container-id-1 div.sk-parallel {display: flex;align-items: stretch;justify-content: center;background-color: white;position: relative;}#sk-container-id-1 div.sk-item::before, #sk-container-id-1 div.sk-parallel-item::before {content: \"\";position: absolute;border-left: 1px solid gray;box-sizing: border-box;top: 0;bottom: 0;left: 50%;z-index: -1;}#sk-container-id-1 div.sk-parallel-item {display: flex;flex-direction: column;z-index: 1;position: relative;background-color: white;}#sk-container-id-1 div.sk-parallel-item:first-child::after {align-self: flex-end;width: 50%;}#sk-container-id-1 div.sk-parallel-item:last-child::after {align-self: flex-start;width: 50%;}#sk-container-id-1 div.sk-parallel-item:only-child::after {width: 0;}#sk-container-id-1 div.sk-dashed-wrapped {border: 1px dashed gray;margin: 0 0.4em 0.5em 0.4em;box-sizing: border-box;padding-bottom: 0.4em;background-color: white;}#sk-container-id-1 div.sk-label label {font-family: monospace;font-weight: bold;display: inline-block;line-height: 1.2em;}#sk-container-id-1 div.sk-label-container {text-align: center;}#sk-container-id-1 div.sk-container {/* jupyter's `normalize.less` sets `[hidden] { display: none; }` but bootstrap.min.css set `[hidden] { display: none !important; }` so we also need the `!important` here to be able to override the default hidden behavior on the sphinx rendered scikit-learn.org. See: https://github.com/scikit-learn/scikit-learn/issues/21755 */display: inline-block !important;position: relative;}#sk-container-id-1 div.sk-text-repr-fallback {display: none;}</style><div id=\"sk-container-id-1\" class=\"sk-top-container\"><div class=\"sk-text-repr-fallback\"><pre>AdaBoostClassifier()</pre><b>In a Jupyter environment, please rerun this cell to show the HTML representation or trust the notebook. <br />On GitHub, the HTML representation is unable to render, please try loading this page with nbviewer.org.</b></div><div class=\"sk-container\" hidden><div class=\"sk-item\"><div class=\"sk-estimator sk-toggleable\"><input class=\"sk-toggleable__control sk-hidden--visually\" id=\"sk-estimator-id-1\" type=\"checkbox\" checked><label for=\"sk-estimator-id-1\" class=\"sk-toggleable__label sk-toggleable__label-arrow\">AdaBoostClassifier</label><div class=\"sk-toggleable__content\"><pre>AdaBoostClassifier()</pre></div></div></div></div></div>"
      ],
      "text/plain": [
       "AdaBoostClassifier()"
      ]
     },
     "execution_count": 35,
     "metadata": {},
     "output_type": "execute_result"
    }
   ],
   "source": [
    "from sklearn.ensemble import AdaBoostClassifier\n",
    "adb=AdaBoostClassifier()\n",
    "adb.fit(X_train,y_train)"
   ]
  },
  {
   "cell_type": "code",
   "execution_count": 36,
   "metadata": {},
   "outputs": [
    {
     "name": "stdout",
     "output_type": "stream",
     "text": [
      "acurracy = 0.555\n",
      "classification_report =\n",
      "               precision    recall  f1-score   support\n",
      "\n",
      "           0       0.30      0.25      0.27       213\n",
      "           1       0.42      0.04      0.07       215\n",
      "           2       0.69      0.93      0.79       197\n",
      "           3       0.98      0.59      0.73       198\n",
      "           4       0.49      0.81      0.61       377\n",
      "\n",
      "    accuracy                           0.56      1200\n",
      "   macro avg       0.58      0.52      0.50      1200\n",
      "weighted avg       0.56      0.56      0.50      1200\n",
      "\n",
      "confusion_matrix =\n",
      " [[ 53   0   0   0 160]\n",
      " [ 58   8   0   0 149]\n",
      " [  3   0 183   2   9]\n",
      " [  0   0  82 116   0]\n",
      " [ 60  11   0   0 306]]\n"
     ]
    }
   ],
   "source": [
    "y_pred=adb.predict(X_test)\n",
    "acc_adb=accuracy_score(y_test,y_pred)\n",
    "cls_adb = classification_report(y_test,y_pred)\n",
    "CM_adb = confusion_matrix(y_test,y_pred)\n",
    "\n",
    "print(f\"acurracy = {acc_adb}\")\n",
    "print(f\"classification_report =\\n {cls_adb}\")\n",
    "print(f\"confusion_matrix =\\n {CM_adb}\")"
   ]
  },
  {
   "cell_type": "code",
   "execution_count": 37,
   "metadata": {},
   "outputs": [
    {
     "data": {
      "image/png": "[encoded data removed]",
      "text/plain": [
       "<Figure size 800x600 with 2 Axes>"
      ]
     },
     "metadata": {},
     "output_type": "display_data"
    }
   ],
   "source": [
    "# Plot confusion matrix using seaborn\n",
    "plt.figure(figsize=(8, 6))\n",
    "sns.heatmap(CM_adb, annot=True, fmt='d', cmap='Blues')  #, xticklabels=df.target_names, yticklabels=df.target_names)\n",
    "plt.title('Confusion Matrix')\n",
    "plt.xlabel('Predicted')\n",
    "plt.ylabel('Actual')\n",
    "plt.show()"
   ]
  },
  {
   "cell_type": "markdown",
   "metadata": {},
   "source": [
    "### CNN"
   ]
  },
  {
   "cell_type": "code",
   "execution_count": 38,
   "metadata": {},
   "outputs": [
    {
     "name": "stdout",
     "output_type": "stream",
     "text": [
      "(4800, 4)\n",
      "Epoch 1/100\n",
      "150/150 [==============================] - 1s 5ms/step - loss: 1.1250 - accuracy: 0.5417 - val_loss: 0.9419 - val_accuracy: 0.5742\n",
      "Epoch 2/100\n",
      "150/150 [==============================] - 0s 3ms/step - loss: 0.8884 - accuracy: 0.6121 - val_loss: 0.9059 - val_accuracy: 0.5908\n",
      "Epoch 3/100\n",
      "150/150 [==============================] - 0s 3ms/step - loss: 0.8504 - accuracy: 0.6290 - val_loss: 0.8631 - val_accuracy: 0.6050\n",
      "Epoch 4/100\n",
      "150/150 [==============================] - 0s 2ms/step - loss: 0.8278 - accuracy: 0.6404 - val_loss: 0.8676 - val_accuracy: 0.6183\n",
      "Epoch 5/100\n",
      "150/150 [==============================] - 0s 2ms/step - loss: 0.8050 - accuracy: 0.6492 - val_loss: 0.8275 - val_accuracy: 0.6283\n",
      "Epoch 6/100\n",
      "150/150 [==============================] - 0s 2ms/step - loss: 0.7842 - accuracy: 0.6602 - val_loss: 0.8242 - val_accuracy: 0.6517\n",
      "Epoch 7/100\n",
      "150/150 [==============================] - 0s 2ms/step - loss: 0.7807 - accuracy: 0.6625 - val_loss: 0.7857 - val_accuracy: 0.6583\n",
      "Epoch 8/100\n",
      "150/150 [==============================] - 0s 3ms/step - loss: 0.7670 - accuracy: 0.6685 - val_loss: 0.7764 - val_accuracy: 0.6467\n",
      "Epoch 9/100\n",
      "150/150 [==============================] - 0s 3ms/step - loss: 0.7573 - accuracy: 0.6671 - val_loss: 0.7727 - val_accuracy: 0.6525\n",
      "Epoch 10/100\n",
      "150/150 [==============================] - 0s 2ms/step - loss: 0.7519 - accuracy: 0.6665 - val_loss: 0.7602 - val_accuracy: 0.6475\n",
      "Epoch 11/100\n",
      "150/150 [==============================] - 0s 2ms/step - loss: 0.7416 - accuracy: 0.6796 - val_loss: 0.7735 - val_accuracy: 0.6483\n",
      "Epoch 12/100\n",
      "150/150 [==============================] - 0s 2ms/step - loss: 0.7342 - accuracy: 0.6829 - val_loss: 0.7441 - val_accuracy: 0.6625\n",
      "Epoch 13/100\n",
      "150/150 [==============================] - 0s 3ms/step - loss: 0.7251 - accuracy: 0.6827 - val_loss: 0.7498 - val_accuracy: 0.6700\n",
      "Epoch 14/100\n",
      "150/150 [==============================] - 0s 3ms/step - loss: 0.7186 - accuracy: 0.6808 - val_loss: 0.7288 - val_accuracy: 0.6833\n",
      "Epoch 15/100\n",
      "150/150 [==============================] - 0s 2ms/step - loss: 0.7229 - accuracy: 0.6798 - val_loss: 0.7693 - val_accuracy: 0.6517\n",
      "Epoch 16/100\n",
      "150/150 [==============================] - 0s 2ms/step - loss: 0.7145 - accuracy: 0.6935 - val_loss: 0.7320 - val_accuracy: 0.6717\n",
      "Epoch 17/100\n",
      "150/150 [==============================] - 0s 2ms/step - loss: 0.7107 - accuracy: 0.6873 - val_loss: 0.7233 - val_accuracy: 0.6633\n",
      "Epoch 18/100\n",
      "150/150 [==============================] - 0s 3ms/step - loss: 0.7027 - accuracy: 0.6954 - val_loss: 0.7430 - val_accuracy: 0.6658\n",
      "Epoch 19/100\n",
      "150/150 [==============================] - 0s 3ms/step - loss: 0.7034 - accuracy: 0.6910 - val_loss: 0.7190 - val_accuracy: 0.6883\n",
      "Epoch 20/100\n",
      "150/150 [==============================] - 0s 3ms/step - loss: 0.6959 - accuracy: 0.6956 - val_loss: 0.7267 - val_accuracy: 0.6842\n",
      "Epoch 21/100\n",
      "150/150 [==============================] - 0s 3ms/step - loss: 0.6944 - accuracy: 0.6958 - val_loss: 0.7089 - val_accuracy: 0.6833\n",
      "Epoch 22/100\n",
      "150/150 [==============================] - 0s 3ms/step - loss: 0.6865 - accuracy: 0.7027 - val_loss: 0.7060 - val_accuracy: 0.6750\n",
      "Epoch 23/100\n",
      "150/150 [==============================] - 0s 3ms/step - loss: 0.6844 - accuracy: 0.7021 - val_loss: 0.7049 - val_accuracy: 0.6792\n",
      "Epoch 24/100\n",
      "150/150 [==============================] - 0s 2ms/step - loss: 0.6860 - accuracy: 0.7017 - val_loss: 0.6939 - val_accuracy: 0.6817\n",
      "Epoch 25/100\n",
      "150/150 [==============================] - 0s 3ms/step - loss: 0.6880 - accuracy: 0.7021 - val_loss: 0.7037 - val_accuracy: 0.6792\n",
      "Epoch 26/100\n",
      "150/150 [==============================] - 0s 3ms/step - loss: 0.6774 - accuracy: 0.7027 - val_loss: 0.7127 - val_accuracy: 0.6800\n",
      "Epoch 27/100\n",
      "150/150 [==============================] - 1s 4ms/step - loss: 0.6773 - accuracy: 0.6979 - val_loss: 0.6906 - val_accuracy: 0.6925\n",
      "Epoch 28/100\n",
      "150/150 [==============================] - 0s 3ms/step - loss: 0.6729 - accuracy: 0.7098 - val_loss: 0.6980 - val_accuracy: 0.6842\n",
      "Epoch 29/100\n",
      "150/150 [==============================] - 0s 2ms/step - loss: 0.6679 - accuracy: 0.7073 - val_loss: 0.6919 - val_accuracy: 0.6958\n",
      "Epoch 30/100\n",
      "150/150 [==============================] - 0s 2ms/step - loss: 0.6697 - accuracy: 0.7077 - val_loss: 0.6845 - val_accuracy: 0.6942\n",
      "Epoch 31/100\n",
      "150/150 [==============================] - 0s 3ms/step - loss: 0.6672 - accuracy: 0.7098 - val_loss: 0.6887 - val_accuracy: 0.6900\n",
      "Epoch 32/100\n",
      "150/150 [==============================] - 0s 3ms/step - loss: 0.6690 - accuracy: 0.7075 - val_loss: 0.6829 - val_accuracy: 0.7050\n",
      "Epoch 33/100\n",
      "150/150 [==============================] - 0s 3ms/step - loss: 0.6670 - accuracy: 0.7050 - val_loss: 0.6817 - val_accuracy: 0.6883\n",
      "Epoch 34/100\n",
      "150/150 [==============================] - 0s 3ms/step - loss: 0.6637 - accuracy: 0.7142 - val_loss: 0.6870 - val_accuracy: 0.6867\n",
      "Epoch 35/100\n",
      "150/150 [==============================] - 0s 2ms/step - loss: 0.6611 - accuracy: 0.7092 - val_loss: 0.7010 - val_accuracy: 0.6908\n",
      "Epoch 36/100\n",
      "150/150 [==============================] - 0s 3ms/step - loss: 0.6615 - accuracy: 0.7108 - val_loss: 0.6777 - val_accuracy: 0.6958\n",
      "Epoch 37/100\n",
      "150/150 [==============================] - 1s 3ms/step - loss: 0.6606 - accuracy: 0.7085 - val_loss: 0.6844 - val_accuracy: 0.6925\n",
      "Epoch 38/100\n",
      "150/150 [==============================] - 0s 2ms/step - loss: 0.6637 - accuracy: 0.7079 - val_loss: 0.6859 - val_accuracy: 0.6900\n",
      "Epoch 39/100\n",
      "150/150 [==============================] - 0s 3ms/step - loss: 0.6621 - accuracy: 0.7090 - val_loss: 0.6946 - val_accuracy: 0.6750\n",
      "Epoch 40/100\n",
      "150/150 [==============================] - 0s 2ms/step - loss: 0.6549 - accuracy: 0.7135 - val_loss: 0.6760 - val_accuracy: 0.6942\n",
      "Epoch 41/100\n",
      "150/150 [==============================] - 0s 3ms/step - loss: 0.6544 - accuracy: 0.7150 - val_loss: 0.6764 - val_accuracy: 0.6942\n",
      "Epoch 42/100\n",
      "150/150 [==============================] - 0s 2ms/step - loss: 0.6518 - accuracy: 0.7165 - val_loss: 0.6752 - val_accuracy: 0.6933\n",
      "Epoch 43/100\n",
      "150/150 [==============================] - 0s 2ms/step - loss: 0.6558 - accuracy: 0.7081 - val_loss: 0.6865 - val_accuracy: 0.6942\n",
      "Epoch 44/100\n",
      "150/150 [==============================] - 0s 2ms/step - loss: 0.6551 - accuracy: 0.7088 - val_loss: 0.6649 - val_accuracy: 0.7025\n",
      "Epoch 45/100\n",
      "150/150 [==============================] - 0s 2ms/step - loss: 0.6528 - accuracy: 0.7160 - val_loss: 0.6796 - val_accuracy: 0.6892\n",
      "Epoch 46/100\n",
      "150/150 [==============================] - 0s 3ms/step - loss: 0.6517 - accuracy: 0.7117 - val_loss: 0.6789 - val_accuracy: 0.7025\n",
      "Epoch 47/100\n",
      "150/150 [==============================] - 0s 3ms/step - loss: 0.6486 - accuracy: 0.7154 - val_loss: 0.6745 - val_accuracy: 0.6967\n",
      "Epoch 48/100\n",
      "150/150 [==============================] - 1s 4ms/step - loss: 0.6532 - accuracy: 0.7113 - val_loss: 0.6792 - val_accuracy: 0.6933\n",
      "Epoch 49/100\n",
      "150/150 [==============================] - 0s 2ms/step - loss: 0.6595 - accuracy: 0.7110 - val_loss: 0.6684 - val_accuracy: 0.6992\n",
      "Epoch 50/100\n",
      "150/150 [==============================] - 0s 2ms/step - loss: 0.6483 - accuracy: 0.7119 - val_loss: 0.6841 - val_accuracy: 0.6933\n",
      "Epoch 51/100\n",
      "150/150 [==============================] - 1s 4ms/step - loss: 0.6441 - accuracy: 0.7163 - val_loss: 0.6831 - val_accuracy: 0.6967\n",
      "Epoch 52/100\n",
      "150/150 [==============================] - 0s 3ms/step - loss: 0.6454 - accuracy: 0.7194 - val_loss: 0.6747 - val_accuracy: 0.7058\n",
      "Epoch 53/100\n",
      "150/150 [==============================] - 0s 3ms/step - loss: 0.6486 - accuracy: 0.7077 - val_loss: 0.7071 - val_accuracy: 0.6808\n",
      "Epoch 54/100\n",
      "150/150 [==============================] - 0s 2ms/step - loss: 0.6413 - accuracy: 0.7142 - val_loss: 0.6774 - val_accuracy: 0.6908\n",
      "Epoch 55/100\n",
      "150/150 [==============================] - 0s 3ms/step - loss: 0.6434 - accuracy: 0.7190 - val_loss: 0.6676 - val_accuracy: 0.6942\n",
      "Epoch 56/100\n",
      "150/150 [==============================] - 0s 3ms/step - loss: 0.6422 - accuracy: 0.7190 - val_loss: 0.6805 - val_accuracy: 0.6925\n",
      "Epoch 57/100\n",
      "150/150 [==============================] - 0s 2ms/step - loss: 0.6403 - accuracy: 0.7190 - val_loss: 0.6718 - val_accuracy: 0.6958\n",
      "Epoch 58/100\n",
      "150/150 [==============================] - 0s 3ms/step - loss: 0.6430 - accuracy: 0.7179 - val_loss: 0.6743 - val_accuracy: 0.7017\n",
      "Epoch 59/100\n",
      "150/150 [==============================] - 0s 2ms/step - loss: 0.6396 - accuracy: 0.7185 - val_loss: 0.6984 - val_accuracy: 0.6808\n",
      "Epoch 60/100\n",
      "150/150 [==============================] - 0s 3ms/step - loss: 0.6417 - accuracy: 0.7144 - val_loss: 0.7081 - val_accuracy: 0.6575\n",
      "Epoch 61/100\n",
      "150/150 [==============================] - 0s 3ms/step - loss: 0.6422 - accuracy: 0.7150 - val_loss: 0.6829 - val_accuracy: 0.6925\n",
      "Epoch 62/100\n",
      "150/150 [==============================] - 0s 2ms/step - loss: 0.6408 - accuracy: 0.7219 - val_loss: 0.6627 - val_accuracy: 0.7017\n",
      "Epoch 63/100\n",
      "150/150 [==============================] - 0s 2ms/step - loss: 0.6409 - accuracy: 0.7163 - val_loss: 0.6694 - val_accuracy: 0.7092\n",
      "Epoch 64/100\n",
      "150/150 [==============================] - 0s 2ms/step - loss: 0.6378 - accuracy: 0.7206 - val_loss: 0.6739 - val_accuracy: 0.6892\n",
      "Epoch 65/100\n",
      "150/150 [==============================] - 0s 3ms/step - loss: 0.6374 - accuracy: 0.7200 - val_loss: 0.6809 - val_accuracy: 0.6925\n",
      "Epoch 66/100\n",
      "150/150 [==============================] - 0s 3ms/step - loss: 0.6368 - accuracy: 0.7206 - val_loss: 0.6608 - val_accuracy: 0.7158\n",
      "Epoch 67/100\n",
      "150/150 [==============================] - 0s 2ms/step - loss: 0.6377 - accuracy: 0.7183 - val_loss: 0.6734 - val_accuracy: 0.6967\n",
      "Epoch 68/100\n",
      "150/150 [==============================] - 0s 3ms/step - loss: 0.6362 - accuracy: 0.7152 - val_loss: 0.6654 - val_accuracy: 0.6842\n",
      "Epoch 69/100\n",
      "150/150 [==============================] - 0s 2ms/step - loss: 0.6377 - accuracy: 0.7221 - val_loss: 0.6626 - val_accuracy: 0.7050\n",
      "Epoch 70/100\n",
      "150/150 [==============================] - 0s 2ms/step - loss: 0.6381 - accuracy: 0.7196 - val_loss: 0.6788 - val_accuracy: 0.6875\n",
      "Epoch 71/100\n",
      "150/150 [==============================] - 0s 2ms/step - loss: 0.6334 - accuracy: 0.7204 - val_loss: 0.6698 - val_accuracy: 0.6992\n",
      "Epoch 72/100\n",
      "150/150 [==============================] - 0s 2ms/step - loss: 0.6351 - accuracy: 0.7165 - val_loss: 0.6595 - val_accuracy: 0.7050\n",
      "Epoch 73/100\n",
      "150/150 [==============================] - 0s 3ms/step - loss: 0.6334 - accuracy: 0.7250 - val_loss: 0.6707 - val_accuracy: 0.6908\n",
      "Epoch 74/100\n",
      "150/150 [==============================] - 0s 2ms/step - loss: 0.6347 - accuracy: 0.7271 - val_loss: 0.6687 - val_accuracy: 0.6958\n",
      "Epoch 75/100\n",
      "150/150 [==============================] - 0s 2ms/step - loss: 0.6302 - accuracy: 0.7240 - val_loss: 0.6669 - val_accuracy: 0.6858\n",
      "Epoch 76/100\n",
      "150/150 [==============================] - 0s 3ms/step - loss: 0.6361 - accuracy: 0.7210 - val_loss: 0.6645 - val_accuracy: 0.7000\n",
      "Epoch 77/100\n",
      "150/150 [==============================] - 0s 2ms/step - loss: 0.6315 - accuracy: 0.7208 - val_loss: 0.6834 - val_accuracy: 0.6883\n",
      "Epoch 78/100\n",
      "150/150 [==============================] - 0s 2ms/step - loss: 0.6332 - accuracy: 0.7235 - val_loss: 0.6619 - val_accuracy: 0.7108\n",
      "Epoch 79/100\n",
      "150/150 [==============================] - 0s 3ms/step - loss: 0.6322 - accuracy: 0.7204 - val_loss: 0.6622 - val_accuracy: 0.6900\n",
      "Epoch 80/100\n",
      "150/150 [==============================] - 0s 2ms/step - loss: 0.6275 - accuracy: 0.7235 - val_loss: 0.6544 - val_accuracy: 0.7050\n",
      "Epoch 81/100\n",
      "150/150 [==============================] - 0s 3ms/step - loss: 0.6298 - accuracy: 0.7223 - val_loss: 0.6785 - val_accuracy: 0.6925\n",
      "Epoch 82/100\n",
      "150/150 [==============================] - 0s 3ms/step - loss: 0.6338 - accuracy: 0.7204 - val_loss: 0.6602 - val_accuracy: 0.6958\n",
      "Epoch 83/100\n",
      "150/150 [==============================] - 0s 2ms/step - loss: 0.6293 - accuracy: 0.7229 - val_loss: 0.6555 - val_accuracy: 0.7017\n",
      "Epoch 84/100\n",
      "150/150 [==============================] - 0s 2ms/step - loss: 0.6271 - accuracy: 0.7237 - val_loss: 0.6561 - val_accuracy: 0.7125\n",
      "Epoch 85/100\n",
      "150/150 [==============================] - 0s 3ms/step - loss: 0.6299 - accuracy: 0.7265 - val_loss: 0.6691 - val_accuracy: 0.6900\n",
      "Epoch 86/100\n",
      "150/150 [==============================] - 0s 2ms/step - loss: 0.6275 - accuracy: 0.7279 - val_loss: 0.6566 - val_accuracy: 0.6967\n",
      "Epoch 87/100\n",
      "150/150 [==============================] - 0s 2ms/step - loss: 0.6284 - accuracy: 0.7237 - val_loss: 0.6578 - val_accuracy: 0.7050\n",
      "Epoch 88/100\n",
      "150/150 [==============================] - 0s 2ms/step - loss: 0.6253 - accuracy: 0.7252 - val_loss: 0.6620 - val_accuracy: 0.6983\n",
      "Epoch 89/100\n",
      "150/150 [==============================] - 0s 2ms/step - loss: 0.6231 - accuracy: 0.7242 - val_loss: 0.6623 - val_accuracy: 0.7092\n",
      "Epoch 90/100\n",
      "150/150 [==============================] - 1s 4ms/step - loss: 0.6237 - accuracy: 0.7283 - val_loss: 0.6642 - val_accuracy: 0.6975\n",
      "Epoch 91/100\n",
      "150/150 [==============================] - 1s 5ms/step - loss: 0.6238 - accuracy: 0.7219 - val_loss: 0.6546 - val_accuracy: 0.6950\n",
      "Epoch 92/100\n",
      "150/150 [==============================] - 0s 3ms/step - loss: 0.6242 - accuracy: 0.7260 - val_loss: 0.6519 - val_accuracy: 0.7100\n",
      "Epoch 93/100\n",
      "150/150 [==============================] - 0s 2ms/step - loss: 0.6300 - accuracy: 0.7227 - val_loss: 0.6528 - val_accuracy: 0.7033\n",
      "Epoch 94/100\n",
      "150/150 [==============================] - 0s 3ms/step - loss: 0.6231 - accuracy: 0.7212 - val_loss: 0.6588 - val_accuracy: 0.7025\n",
      "Epoch 95/100\n",
      "150/150 [==============================] - 0s 2ms/step - loss: 0.6243 - accuracy: 0.7223 - val_loss: 0.6561 - val_accuracy: 0.6975\n",
      "Epoch 96/100\n",
      "150/150 [==============================] - 0s 3ms/step - loss: 0.6291 - accuracy: 0.7281 - val_loss: 0.6593 - val_accuracy: 0.6975\n",
      "Epoch 97/100\n",
      "150/150 [==============================] - 0s 3ms/step - loss: 0.6249 - accuracy: 0.7277 - val_loss: 0.6528 - val_accuracy: 0.7108\n",
      "Epoch 98/100\n",
      "150/150 [==============================] - 0s 3ms/step - loss: 0.6194 - accuracy: 0.7260 - val_loss: 0.6768 - val_accuracy: 0.6942\n",
      "Epoch 99/100\n",
      "150/150 [==============================] - 0s 3ms/step - loss: 0.6250 - accuracy: 0.7227 - val_loss: 0.6576 - val_accuracy: 0.6992\n",
      "Epoch 100/100\n",
      "150/150 [==============================] - 0s 2ms/step - loss: 0.6182 - accuracy: 0.7273 - val_loss: 0.6619 - val_accuracy: 0.7183\n"
     ]
    },
    {
     "data": {
      "text/plain": [
       "<keras.src.callbacks.History at 0x2821e178f40>"
      ]
     },
     "execution_count": 38,
     "metadata": {},
     "output_type": "execute_result"
    }
   ],
   "source": [
    "\n",
    "# Check the shape of the input data\n",
    "print(X_train.shape)  # Check the shape of X_train to ensure it matches your expectations\n",
    "\n",
    "# Define the CNN architecture\n",
    "model_cnn = models.Sequential()\n",
    "\n",
    "# Add fully connected layers for classification\n",
    "model_cnn.add(layers.Flatten())\n",
    "model_cnn.add(layers.Dense(128, activation='relu'))\n",
    "model_cnn.add(layers.Dense(5, activation='softmax'))  # 5 classes for classification\n",
    "\n",
    "# Compile the model\n",
    "model_cnn.compile(optimizer='adam',\n",
    "                  loss='sparse_categorical_crossentropy',\n",
    "                  metrics=['accuracy'])\n",
    "\n",
    "# Train the model\n",
    "model_cnn.fit(X_train, y_train, epochs=100, validation_data=(X_test, y_test))\n",
    "\n",
    "\n"
   ]
  },
  {
   "cell_type": "code",
   "execution_count": 39,
   "metadata": {},
   "outputs": [
    {
     "name": "stdout",
     "output_type": "stream",
     "text": [
      "38/38 [==============================] - 0s 2ms/step\n",
      "Accuracy = 0.7183333333333334\n",
      "classification_report =\n",
      "               precision    recall  f1-score   support\n",
      "\n",
      "           0       0.53      0.60      0.56       213\n",
      "           1       0.53      0.34      0.41       215\n",
      "           2       1.00      0.89      0.94       197\n",
      "           3       0.97      1.00      0.98       198\n",
      "           4       0.65      0.76      0.70       377\n",
      "\n",
      "    accuracy                           0.72      1200\n",
      "   macro avg       0.74      0.72      0.72      1200\n",
      "weighted avg       0.72      0.72      0.71      1200\n",
      "\n",
      "confusion_matrix =\n",
      " [[128  32   0   0  53]\n",
      " [ 52  73   0   0  90]\n",
      " [  1   3 176   7  10]\n",
      " [  0   0   0 198   0]\n",
      " [ 60  30   0   0 287]]\n"
     ]
    }
   ],
   "source": [
    "# Evaluating the model accuracy\n",
    "y_pred = model_cnn.predict(X_test)\n",
    "y_pred_classes = y_pred.argmax(axis=-1)  # Get the index of the highest probability\n",
    "acc_cnn = accuracy_score(y_test, y_pred_classes)\n",
    "cls_cnn = classification_report(y_test, y_pred_classes)\n",
    "CM_cnn = confusion_matrix(y_test, y_pred_classes)\n",
    "print(f\"Accuracy = {acc_cnn}\")\n",
    "print(f\"classification_report =\\n {cls_cnn}\")\n",
    "print(f\"confusion_matrix =\\n {CM_cnn}\")"
   ]
  },
  {
   "cell_type": "code",
   "execution_count": 40,
   "metadata": {},
   "outputs": [
    {
     "data": {
      "image/png": "[encoded data removed]",
      "text/plain": [
       "<Figure size 800x600 with 2 Axes>"
      ]
     },
     "metadata": {},
     "output_type": "display_data"
    }
   ],
   "source": [
    "# Plot confusion matrix using seaborn\n",
    "plt.figure(figsize=(8, 6))\n",
    "sns.heatmap(CM_cnn, annot=True, fmt='d', cmap='Blues')  #, xticklabels=df.target_names, yticklabels=df.target_names)\n",
    "plt.title('Confusion Matrix')\n",
    "plt.xlabel('Predicted')\n",
    "plt.ylabel('Actual')\n",
    "plt.show()"
   ]
  },
  {
   "cell_type": "code",
   "execution_count": 41,
   "metadata": {},
   "outputs": [],
   "source": [
    "with open('CNN_model.pkl','wb') as fp:\n",
    "    pickle.dump(model_cnn,fp)"
   ]
  },
  {
   "cell_type": "code",
   "execution_count": 42,
   "metadata": {},
   "outputs": [],
   "source": [
    "with open('CNN_model.pkl','rb') as fp:\n",
    "    mod=pickle.load(fp)"
   ]
  },
  {
   "cell_type": "code",
   "execution_count": 43,
   "metadata": {},
   "outputs": [
    {
     "name": "stdout",
     "output_type": "stream",
     "text": [
      "38/38 [==============================] - 0s 2ms/step\n",
      "Accuracy: 0.7183333333333334\n"
     ]
    }
   ],
   "source": [
    "y_pred = mod.predict(X_test)\n",
    "y_pred_classes = y_pred.argmax(axis=-1)  # Get the index of the highest probability\n",
    "accuracy = accuracy_score(y_test, y_pred_classes)\n",
    "print(f\"Accuracy: {accuracy}\")"
   ]
  },
  {
   "cell_type": "markdown",
   "metadata": {},
   "source": [
    "### Prediction "
   ]
  },
  {
   "cell_type": "code",
   "execution_count": 44,
   "metadata": {},
   "outputs": [
    {
     "name": "stdout",
     "output_type": "stream",
     "text": [
      "Sun\n"
     ]
    },
    {
     "name": "stderr",
     "output_type": "stream",
     "text": [
      "c:\\Program Files\\Python310\\lib\\site-packages\\sklearn\\base.py:464: UserWarning: X does not have valid feature names, but LogisticRegression was fitted with feature names\n",
      "  warnings.warn(\n"
     ]
    }
   ],
   "source": [
    "abc=[0.0,\t27.8,\t13.3,\t3.3]\n",
    "result=lr.predict([abc])\n",
    "result=result[0]\n",
    "if result==0:\n",
    "    print(\"Drizzle\")\n",
    "elif result==1:\n",
    "    print(\"Fog\")\n",
    "elif result==2:\n",
    "    print(\"Rain\")\n",
    "elif result==3:\n",
    "    print(\"Snow\")\n",
    "else:\n",
    "    print(\"Sun\")"
   ]
  },
  {
   "cell_type": "code",
   "execution_count": 45,
   "metadata": {},
   "outputs": [
    {
     "name": "stdout",
     "output_type": "stream",
     "text": [
      "Rain\n"
     ]
    },
    {
     "name": "stderr",
     "output_type": "stream",
     "text": [
      "c:\\Program Files\\Python310\\lib\\site-packages\\sklearn\\base.py:464: UserWarning: X does not have valid feature names, but DecisionTreeClassifier was fitted with feature names\n",
      "  warnings.warn(\n"
     ]
    }
   ],
   "source": [
    "abc=[1.5,\t8.9,\t3.3,\t3.8]\n",
    "result=dt.predict([abc])\n",
    "result=result[0]\n",
    "if result==0:\n",
    "    print(\"Drizzle\")\n",
    "elif result==1:\n",
    "    print(\"Fog\")\n",
    "elif result==2:\n",
    "    print(\"Rain\")\n",
    "elif result==3:\n",
    "    print(\"Snow\")\n",
    "else:\n",
    "    print(\"Sun\")"
   ]
  },
  {
   "cell_type": "code",
   "execution_count": 46,
   "metadata": {},
   "outputs": [
    {
     "name": "stdout",
     "output_type": "stream",
     "text": [
      "[0]\n",
      "Drizzle\n"
     ]
    },
    {
     "name": "stderr",
     "output_type": "stream",
     "text": [
      "c:\\Program Files\\Python310\\lib\\site-packages\\sklearn\\base.py:464: UserWarning: X does not have valid feature names, but DecisionTreeClassifier was fitted with feature names\n",
      "  warnings.warn(\n"
     ]
    }
   ],
   "source": [
    "abc=[0.0,\t19.4,\t9.4,\t2.0]\n",
    "result=dt.predict([abc])\n",
    "print(result)\n",
    "result=result[0]\n",
    "if result==0:\n",
    "    print(\"Drizzle\")\n",
    "elif result==1:\n",
    "    print(\"Fog\")\n",
    "elif result==2:\n",
    "    print(\"Rain\")\n",
    "elif result==3:\n",
    "    print(\"Snow\")\n",
    "else:\n",
    "    print(\"Sun\")"
   ]
  },
  {
   "cell_type": "code",
   "execution_count": 47,
   "metadata": {},
   "outputs": [
    {
     "name": "stdout",
     "output_type": "stream",
     "text": [
      "Fog\n"
     ]
    },
    {
     "name": "stderr",
     "output_type": "stream",
     "text": [
      "c:\\Program Files\\Python310\\lib\\site-packages\\sklearn\\base.py:464: UserWarning: X does not have valid feature names, but DecisionTreeClassifier was fitted with feature names\n",
      "  warnings.warn(\n"
     ]
    }
   ],
   "source": [
    "abc=[0.000000,\t20.979252,\t9.442617,\t1.307103]\n",
    "result=dt.predict([abc])\n",
    "result=result[0]\n",
    "if result==0:\n",
    "    print(\"Drizzle\")\n",
    "elif result==1:\n",
    "    print(\"Fog\")\n",
    "elif result==2:\n",
    "    print(\"Rain\")\n",
    "elif result==3:\n",
    "    print(\"Snow\")\n",
    "else:\n",
    "    print(\"Sun\")"
   ]
  },
  {
   "cell_type": "code",
   "execution_count": 48,
   "metadata": {},
   "outputs": [
    {
     "name": "stdout",
     "output_type": "stream",
     "text": [
      "Snow\n"
     ]
    },
    {
     "name": "stderr",
     "output_type": "stream",
     "text": [
      "c:\\Program Files\\Python310\\lib\\site-packages\\sklearn\\base.py:464: UserWarning: X does not have valid feature names, but DecisionTreeClassifier was fitted with feature names\n",
      "  warnings.warn(\n"
     ]
    }
   ],
   "source": [
    "abc=[3.558850,\t4.298997,\t-4.243887,\t5.288777]\n",
    "result=dt.predict([abc])\n",
    "result=result[0]\n",
    "if result==0:\n",
    "    print(\"Drizzle\")\n",
    "elif result==1:\n",
    "    print(\"Fog\")\n",
    "elif result==2:\n",
    "    print(\"Rain\")\n",
    "elif result==3:\n",
    "    print(\"Snow\")\n",
    "else:\n",
    "    print(\"Sun\")"
   ]
  },
  {
   "cell_type": "code",
   "execution_count": 49,
   "metadata": {},
   "outputs": [
    {
     "name": "stdout",
     "output_type": "stream",
     "text": [
      "1/1 [==============================] - 0s 82ms/step\n",
      "Snow\n"
     ]
    }
   ],
   "source": [
    "abc=[3.558850,\t4.298997,\t-4.243887,\t5.288777]\n",
    "result=model_cnn.predict([abc]).argmax(axis=-1)\n",
    "result=result[0]\n",
    "if result==0:\n",
    "    print(\"Drizzle\")\n",
    "elif result==1:\n",
    "    print(\"Fog\")\n",
    "elif result==2:\n",
    "    print(\"Rain\")\n",
    "elif result==3:\n",
    "    print(\"Snow\")\n",
    "else:\n",
    "    print(\"Sun\")"
   ]
  },
  {
   "cell_type": "markdown",
   "metadata": {},
   "source": [
    "### Graph"
   ]
  },
  {
   "cell_type": "code",
   "execution_count": 50,
   "metadata": {},
   "outputs": [
    {
     "data": {
      "image/png": "[encoded data removed]",
      "text/plain": [
       "<Figure size 800x400 with 1 Axes>"
      ]
     },
     "metadata": {},
     "output_type": "display_data"
    }
   ],
   "source": [
    "Algorithm = ['DT', 'KNN', 'RF', \"LR\", 'CNN']\n",
    "Accuracy =  [acc_dt*100, acc_knn*100, acc_rf*100, acc_lr*100, acc_cnn*100]\n",
    "\n",
    "plt.figure(figsize=(8,4))\n",
    "sns.barplot(x = Algorithm, y = Accuracy, color='cyan')\n",
    "plt.title('Training Accuracy Graph')\n",
    "plt.show()"
   ]
  },
  {
   "cell_type": "code",
   "execution_count": null,
   "metadata": {},
   "outputs": [],
   "source": []
  }
 ],
 "metadata": {
  "kernelspec": {
   "display_name": "Python 3",
   "language": "python",
   "name": "python3"
  },
  "language_info": {
   "codemirror_mode": {
    "name": "ipython",
    "version": 3
   },
   "file_extension": ".py",
   "mimetype": "text/x-python",
   "name": "python",
   "nbconvert_exporter": "python",
   "pygments_lexer": "ipython3",
   "version": "3.10.0"
  },
  "orig_nbformat": 4
 },
 "nbformat": 4,
 "nbformat_minor": 2
}
